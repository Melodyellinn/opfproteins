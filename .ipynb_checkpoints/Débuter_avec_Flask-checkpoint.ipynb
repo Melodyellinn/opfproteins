{
 "cells": [
  {
   "cell_type": "markdown",
   "metadata": {},
   "source": [
    "# Introduction à Flask"
   ]
  },
  {
   "cell_type": "markdown",
   "metadata": {},
   "source": [
    "**Quelques rappels:**\n",
    "\n",
    "Pour aller vite, [Flask](http://flask.pocoo.org/) est un framework de développement web en Python. Ce n'est pas le seul mais Flask est connu pour sa simplicité de mise en place. Si vous souhaitez davantage de flexibilité, [Django](https://www.djangoproject.com/) sera plus adapté.  \n",
    "En alliant le langage de programmation Python et un système de templates très riche, on peut créer assez facilement une application. Forcément, plus l'application que vous rêvez de réaliser sera compliquée et plein de fonctionnalités, plus le temps qu'il vous faudra pour la coder sera long. \n",
    "\n",
    "Dans ce notebook nous verrons comment mettre en place notre première application avec la création d'un site web à usage principalement privé."
   ]
  },
  {
   "cell_type": "markdown",
   "metadata": {},
   "source": [
    "**Question :** Que pouvez-vous dire de Flask ? Qu'es-ce que c'est? A votre avis quand/comment peut-on l'utiliser en tant que développeur Data IA ? Citez des cas d'usage?"
   ]
  },
  {
   "cell_type": "markdown",
   "metadata": {},
   "source": [
    "## Initiation de sa page web"
   ]
  },
  {
   "cell_type": "markdown",
   "metadata": {},
   "source": [
    "Exécutez le code ci-dessous après avoir \"décommenté\" les deux dernières lignes. Allez à la page http://localhost:5000/ ou celle mentionné en output de votre cellule.  \n",
    "Pour quitter, il faut interrompre le kernel en cliquant sur kernel > interrupt ou directement sur le bouton STOP."
   ]
  },
  {
   "cell_type": "code",
   "execution_count": 3,
   "metadata": {},
   "outputs": [
    {
     "name": "stdout",
     "output_type": "stream",
     "text": [
      "Requirement already satisfied: flask in c:\\users\\simplon\\anaconda3\\lib\\site-packages (1.1.2)\n",
      "Requirement already satisfied: Werkzeug>=0.15 in c:\\users\\simplon\\anaconda3\\lib\\site-packages (from flask) (1.0.1)\n",
      "Requirement already satisfied: itsdangerous>=0.24 in c:\\users\\simplon\\anaconda3\\lib\\site-packages (from flask) (1.1.0)\n",
      "Requirement already satisfied: Jinja2>=2.10.1 in c:\\users\\simplon\\anaconda3\\lib\\site-packages (from flask) (2.11.3)\n",
      "Requirement already satisfied: click>=5.1 in c:\\users\\simplon\\anaconda3\\lib\\site-packages (from flask) (7.1.2)\n",
      "Requirement already satisfied: MarkupSafe>=0.23 in c:\\users\\simplon\\anaconda3\\lib\\site-packages (from Jinja2>=2.10.1->flask) (1.1.1)\n"
     ]
    }
   ],
   "source": [
    "#!pip install flask\n",
    "# A exécuter la première fois seulement"
   ]
  },
  {
   "cell_type": "code",
   "execution_count": 4,
   "metadata": {},
   "outputs": [
    {
     "name": "stdout",
     "output_type": "stream",
     "text": [
      " * Serving Flask app \"__main__\" (lazy loading)\n",
      " * Environment: production\n",
      "   WARNING: This is a development server. Do not use it in a production deployment.\n",
      "   Use a production WSGI server instead.\n",
      " * Debug mode: off\n"
     ]
    },
    {
     "name": "stderr",
     "output_type": "stream",
     "text": [
      " * Running on http://127.0.0.1:5000/ (Press CTRL+C to quit)\n",
      "127.0.0.1 - - [26/Oct/2021 09:43:50] \"\u001b[37mGET / HTTP/1.1\u001b[0m\" 200 -\n",
      "127.0.0.1 - - [26/Oct/2021 09:43:50] \"\u001b[33mGET /favicon.ico HTTP/1.1\u001b[0m\" 404 -\n"
     ]
    }
   ],
   "source": [
    "from flask import Flask  # pip install flask\n",
    "app = Flask(__name__)\n",
    "\n",
    "@app.route(\"/\") ## @app.route permet de préciser à quelle adresse ce qui suit va s'appliquer. Ici comme on est sur la page d'accueil, on met juste (\"/\")\n",
    "def hello():\n",
    "    return \"Hello World!\"\n",
    "\n",
    "if __name__ == \"__main__\":\n",
    "    app.run()"
   ]
  },
  {
   "cell_type": "markdown",
   "metadata": {},
   "source": [
    "**Question :** Décortiquez l'utilisation et le fonctionnement"
   ]
  },
  {
   "cell_type": "markdown",
   "metadata": {},
   "source": [
    "On importe Flask et on créée une variable \"app\" pour y mettre Flask (avec entre parenthèse le nom du site ?)  \n",
    "@app.route sert à créer la route vers le site  \n",
    "On créée une def pour générer ce l'on veut faire apparaître sur la page  \n",
    "Enfin on entre dans la boucle notre fichier est strictement égal à main (le site ?)  \n",
    "On run app"
   ]
  },
  {
   "cell_type": "markdown",
   "metadata": {},
   "source": [
    "**Question :**  Faites la même chose en remplaçant le \"Hello World!\" par \"coucou c'est moi\""
   ]
  },
  {
   "cell_type": "markdown",
   "metadata": {},
   "source": [
    "## Sans le notebook"
   ]
  },
  {
   "cell_type": "markdown",
   "metadata": {},
   "source": [
    "Lorsque vous souhaitez allez plus loin avec Flask, vous devez utiliser l'invite de commande et exécuter un fichier .py  \n",
    "Ci-dessous nous allons pas-à-pas comprendre le fonctionnement. \n",
    "\n",
    "__Rappel__ : Pour ouvrir une invite de commandes :\n",
    "\n",
    "    sous Windows, il faut chercher *\"cmd\"* dans l'outil de recherche  \n",
    "    sous Mac, utilisez spotlight (raccourci Pomme + espace) et chercher console  \n",
    "La console permettra de lancer les .py et exécutera le script qui lancera l'application."
   ]
  },
  {
   "cell_type": "markdown",
   "metadata": {},
   "source": [
    "### Création de deux dossiers : "
   ]
  },
  {
   "cell_type": "markdown",
   "metadata": {},
   "source": [
    "Dès lors que vous souhaitez ajouter un peu d'intéractivité et de flexibilité, vous aller devoir indiquer à Flask des templates de pages et des styles prédéfinis pour l'application.  \n",
    "\n",
    "Je vous conseille de structurer vos applications de la manière suivante :   \n",
    "\n",
    " - un fichier XXXXXXXXXX.py\n",
    " - un dossier static qui contient une feuille de style main.css\n",
    " - un dossier templates qui contient une page de la forme XXXXXXXXXX.html"
   ]
  },
  {
   "cell_type": "markdown",
   "metadata": {},
   "source": [
    "La structure du dossier et le nom des dossiers static et templates sont importants : Flask sait que c'est dans ces dossiers là qu'il doit aller chercher les éléments qui l'intéressent, donc soyez vigilent sur l'écriture."
   ]
  },
  {
   "cell_type": "markdown",
   "metadata": {},
   "source": [
    "### Enregistrer le code suivant dans un fichier bloc-note ou équivalent.  Ce fichier sera nommé exemple.py"
   ]
  },
  {
   "cell_type": "code",
   "execution_count": null,
   "metadata": {},
   "outputs": [],
   "source": [
    "#!/usr/bin/env python\n",
    "# -*- coding: utf-8 -*-\n",
    "\n",
    "from flask import Flask, request, render_template\n",
    "app = Flask(__name__)  \n",
    "# __name__ contient \"__main__\" mais si ce code est importé par un autre fichier avec import, alors __name__ contiendra le nom de ce fichier\n",
    "# (c'est pas spécifique à flask)\n",
    "\n",
    "@app.route('/')\n",
    "def home():\n",
    "    return render_template(\"home.html\")\n",
    "\n",
    "@app.route('/', methods=['POST'])\n",
    "def text_box():\n",
    "    text = request.form['text']\n",
    "    processed_text = text.upper()\n",
    "    return render_template(\"bienvenue.html\" , message = processed_text )\n",
    "\n",
    "@app.route(\"/next\")\n",
    "def suite():\n",
    "    return render_template(\"page_suivante.html\")\n",
    "\n",
    "@app.route('/text')\n",
    "def show_text():\n",
    "    return \"Page en erreur\"\n",
    "\n",
    "if __name__ == '__main__':\n",
    "    app.run()"
   ]
  },
  {
   "cell_type": "markdown",
   "metadata": {},
   "source": [
    "## Enregistrer le code suivant dans un bloc-note, dans votre dossier templates et nommez le :  home.html"
   ]
  },
  {
   "cell_type": "code",
   "execution_count": null,
   "metadata": {},
   "outputs": [],
   "source": [
    "<!doctype html>\n",
    "<html lang=\"en\">\n",
    "  <head>\n",
    "\t\t\t<link rel =\"stylesheet\" type=\"text/css\" href=\"{{ url_for('static', filename='main.css') }}\">\n",
    "\t\t</head>\n",
    "\n",
    "<body>\n",
    "    <h1>Indiquer votre nom</h1>\n",
    "    <form action=\".\" method=\"POST\">\n",
    "        <input type=\"text\" name=\"text\">\n",
    "        <button type=\"submit\">OK</button>\n",
    "    </form>\n",
    "</body>\n",
    "</html>"
   ]
  },
  {
   "cell_type": "markdown",
   "metadata": {},
   "source": [
    "## Enregistrer le code suivant dans un bloc-note, dans votre dossier templates et nommez le :  bienvenue.html"
   ]
  },
  {
   "cell_type": "code",
   "execution_count": null,
   "metadata": {},
   "outputs": [],
   "source": [
    "<!doctype html>\n",
    "<html lang=\"en\">\n",
    "    <head>\n",
    "\t\t<link rel =\"stylesheet\" type=\"text/css\" href=\"{{ url_for('static', filename='main.css') }}\"\n",
    "    </head>\n",
    "    <body>\n",
    "\t    <h1> Bienvenue  sur la page d'accueil {{ message }} </h1>\n",
    "    </body>\n",
    "    <a href=\"{{ url_for('suite') }}\"> Lien page suivante </a>\n",
    "</html>"
   ]
  },
  {
   "cell_type": "markdown",
   "metadata": {},
   "source": [
    "## Enregistrer le code suivant dans un bloc-note, dans votre dossier templates et nommez le :  page_suivante.html"
   ]
  },
  {
   "cell_type": "code",
   "execution_count": null,
   "metadata": {},
   "outputs": [],
   "source": [
    "<!doctype html>\n",
    "<html lang=\"en\">\n",
    "    <head>\n",
    "\t\t<link rel =\"stylesheet\" type=\"text/css\" href=\"{{ url_for('static', filename='main.css') }}\"\n",
    "    </head>\n",
    "    <body>\n",
    "\t    <h1 > Vous êtes sur la 2eme page </h1>\n",
    "    </body>\n",
    "\t<a href=\"{{ url_for('home') }}\"> retourner à la page d'accueil </a>\n",
    "</html>"
   ]
  },
  {
   "cell_type": "markdown",
   "metadata": {},
   "source": [
    "## Enregistrer le code suivant dans un bloc-note, dans votre dossier static et nommez le :  main.css"
   ]
  },
  {
   "cell_type": "code",
   "execution_count": null,
   "metadata": {},
   "outputs": [],
   "source": [
    "h1 {\n",
    "  font-size: 2em;\n",
    "  color: pink;\n",
    "  text-align: center;\n",
    "}"
   ]
  },
  {
   "cell_type": "markdown",
   "metadata": {},
   "source": [
    "Ouvrir la console et taper \"python XXXXXXXXXX/exemple.py\" (en remplacant les x par le chemin de votre fichier exercice.py, par exemple C:/Téléchargements ou C:/Bureau/Python/)\n",
    "\n",
    "Ouvrir une page du navigateur et aller à l'adresse http://localhost:5000 ou suivez les instructions de sortie de votre exécution de code"
   ]
  },
  {
   "cell_type": "markdown",
   "metadata": {},
   "source": [
    "**Question :** Que font ces différents codes ? Commentez-les différentes fonctions utilisées. "
   ]
  },
  {
   "cell_type": "markdown",
   "metadata": {},
   "source": [
    "**Question :** Naviguez dans les différentes pages créées, regardez ce qu'il se passe."
   ]
  },
  {
   "cell_type": "markdown",
   "metadata": {},
   "source": [
    "> Pour aller plus loin : ce cours [Flask](https://openclassrooms.com/fr/courses/4425066-concevez-un-site-avec-flask/4525705-tirez-parti-de-ce-cours) sur OpenClassrooms vous permettra de pratiquer sur un autre exemple.  \n",
    "Cela vous sera utile dans un projet suivant !"
   ]
  }
 ],
 "metadata": {
  "kernelspec": {
   "display_name": "Python 3",
   "language": "python",
   "name": "python3"
  },
  "language_info": {
   "codemirror_mode": {
    "name": "ipython",
    "version": 3
   },
   "file_extension": ".py",
   "mimetype": "text/x-python",
   "name": "python",
   "nbconvert_exporter": "python",
   "pygments_lexer": "ipython3",
   "version": "3.8.8"
  }
 },
 "nbformat": 4,
 "nbformat_minor": 4
}
